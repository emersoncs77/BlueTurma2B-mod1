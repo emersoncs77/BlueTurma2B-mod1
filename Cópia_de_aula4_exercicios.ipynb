{
  "nbformat": 4,
  "nbformat_minor": 0,
  "metadata": {
    "colab": {
      "name": "Cópia de aula4_exercicios.ipynb",
      "provenance": [],
      "collapsed_sections": [],
      "include_colab_link": true
    },
    "kernelspec": {
      "name": "python3",
      "display_name": "Python 3"
    },
    "language_info": {
      "name": "python"
    }
  },
  "cells": [
    {
      "cell_type": "markdown",
      "metadata": {
        "id": "view-in-github",
        "colab_type": "text"
      },
      "source": [
        "<a href=\"https://colab.research.google.com/github/emersoncs77/BlueTurma2B-mod1/blob/main/C%C3%B3pia_de_aula4_exercicios.ipynb\" target=\"_parent\"><img src=\"https://colab.research.google.com/assets/colab-badge.svg\" alt=\"Open In Colab\"/></a>"
      ]
    },
    {
      "cell_type": "markdown",
      "metadata": {
        "id": "DptQTkwqN7v9"
      },
      "source": [
        "# Exercícios de Aquecimento\n",
        "\n",
        "## Exercício 01\n",
        "Elabore um programa que imprima na tela a seguinte frase `Olá Mundo! Esse é o meu primeiro programa`"
      ]
    },
    {
      "cell_type": "code",
      "metadata": {
        "id": "fu-Hvxg7OT64",
        "colab": {
          "base_uri": "https://localhost:8080/"
        },
        "outputId": "b6cc700f-1b42-47f6-c6bc-66b2911e2fc8"
      },
      "source": [
        "print(\"Olá Mundo! Esse é o meu primeiro programa\")"
      ],
      "execution_count": null,
      "outputs": [
        {
          "output_type": "stream",
          "text": [
            "Olá Mundo! Esse é o meu primeiro programa\n"
          ],
          "name": "stdout"
        }
      ]
    },
    {
      "cell_type": "markdown",
      "metadata": {
        "id": "HYnPLbl2OfuE"
      },
      "source": [
        "## Exercício 02\n",
        "Elabore um programa que escreve seu nome completo na primeira linha, seu endereço na segunda e o CEP e telefone na terceira.  \n",
        "\n",
        "**Exemplo:**\n",
        "```\n",
        "Nome: Bruno Fabri\n",
        "Endereço: Rua ABC\n",
        "CEP: 002220-010\n",
        "```"
      ]
    },
    {
      "cell_type": "code",
      "metadata": {
        "id": "sUrmuOzbO5Cd",
        "colab": {
          "base_uri": "https://localhost:8080/"
        },
        "outputId": "58a43a49-8645-46a9-c8fe-b509fe018a1c"
      },
      "source": [
        "print(\"Nome: Bruno Fabri\")\n",
        "print(\"Endereço: Rua ABC, 163\")\n",
        "print(\" \")\n",
        "print(\"Telefone: (21) 9999-9999\")\n",
        "\n",
        "print(\"Nome: Bruno\\nEndereço: Rua ABC, 163\\nTelefone: (21) 9999-9999\")"
      ],
      "execution_count": 1,
      "outputs": [
        {
          "output_type": "stream",
          "text": [
            "Nome: Bruno Fabri\n",
            "Endereço: Rua ABC, 163\n",
            " \n",
            "Telefone: (21) 9999-9999\n"
          ],
          "name": "stdout"
        }
      ]
    },
    {
      "cell_type": "markdown",
      "metadata": {
        "id": "5XVY0cvwP1WX"
      },
      "source": [
        "## Exercício 03\n",
        "Elabore um programa que recebe o nome de uma pessoa do terminal e mostra a seguinte mensagem: `Olá {nome}! Seja bem vindo ao fantástico mundo da programação`"
      ]
    },
    {
      "cell_type": "code",
      "metadata": {
        "id": "VDfwe6OSQM0M",
        "colab": {
          "base_uri": "https://localhost:8080/"
        },
        "outputId": "f06edd17-a92a-49bf-b0d7-c63c81a182ca"
      },
      "source": [
        "nome = input(\"Digite seu nome:\")\n",
        "numero = input(\"Digite um número:\")\n",
        "print(type(nome))\n",
        "\n",
        "print(nome + numero)\n",
        "\n",
        "print(\"{} {}\".format(nome,numero))\n",
        "\n",
        "print(\"Olá {}! Seja bem vindo ao fantástico mundo da programação\".format(nome,10))\n",
        "\n",
        "print(\"Olá {}! Seja bem vindo ao fantástico mundo da programação.E numero {}\".format(nome,10))\n",
        "print(\"Olá {1}! Seja bem vindo ao fantástico mundo da programação.E numero {0}\".format(10,nome))\n",
        "\n",
        "print(f'Olá {nome}! Seja bem vindo ao fantástico mundo da programação')\n",
        "\n",
        "\n",
        "# print(\"Olá\", nome, \"! Seja bem vindo ao fantástico mundo da programação\")\n",
        "# print(\"Olá\", nome + \"! Seja bem vindo ao fantástico mundo da programação\")\n",
        "\n"
      ],
      "execution_count": 9,
      "outputs": [
        {
          "output_type": "stream",
          "text": [
            "Digite seu nome:Emerson\n",
            "Digite um número:10\n",
            "<class 'str'>\n",
            "Emerson10\n",
            "Emerson 10\n",
            "Olá Emerson! Seja bem vindo ao fantástico mundo da programação\n",
            "Olá Emerson! Seja bem vindo ao fantástico mundo da programação.E numero 10\n",
            "Olá Emerson! Seja bem vindo ao fantástico mundo da programação.E numero 10\n",
            "Olá Emerson! Seja bem vindo ao fantástico mundo da programação\n"
          ],
          "name": "stdout"
        }
      ]
    },
    {
      "cell_type": "markdown",
      "metadata": {
        "id": "1Nb29agVQc3k"
      },
      "source": [
        "## Exercício 04\n",
        "Elabore um programa que recebe dois valores inteiros e mostra a soma desses valores\n",
        "\n",
        "**Exemplo:**\n",
        "\n",
        "```\n",
        "Primeiro Valor = 2\n",
        "Segundo Valor = 3\n",
        "Soma = 5\n",
        "```"
      ]
    },
    {
      "cell_type": "code",
      "metadata": {
        "id": "a6_BwVwRROmH",
        "colab": {
          "base_uri": "https://localhost:8080/"
        },
        "outputId": "5db46ca8-afdf-44eb-abc2-70097a78efed"
      },
      "source": [
        "#Exemplo inteiro\n",
        "\n",
        "numero1_string = input(\"Digite o primeiro valor: \")\n",
        "print(type(numero1_string))\n",
        "\n",
        "numero1 = int(numero1_string)\n",
        "print(type(numero1))\n",
        "\n",
        "numero2 = int(input(\"Digite o segundo valor: \"))\n",
        "soma = numero1 + numero2\n",
        "print(\"Soma =\", soma)\n",
        "print(\"Soma =\", numero1 + numero2)\n",
        "\n",
        "\n"
      ],
      "execution_count": 14,
      "outputs": [
        {
          "output_type": "stream",
          "text": [
            "Digite o primeiro valor: 10\n",
            "<class 'str'>\n",
            "<class 'int'>\n",
            "Digite o segundo valor: 10\n",
            "Soma = 20\n",
            "Soma = 20\n"
          ],
          "name": "stdout"
        }
      ]
    },
    {
      "cell_type": "markdown",
      "metadata": {
        "id": "4HQxR3FTTbSr"
      },
      "source": [
        "0\n",
        "## Exercício 05\n",
        "Elabore um programa que recebe dois valores inteiros e mostra se o primeiro valor é maior ou igual ao segundo valor\n",
        "\n",
        "**Exemplo:**\n",
        "```\n",
        "Primeiro Valor = 3\n",
        "Segundo Valor = 2\n",
        "Resultado = True\n",
        "```"
      ]
    },
    {
      "cell_type": "code",
      "metadata": {
        "id": "OXISQASdTeSW",
        "colab": {
          "base_uri": "https://localhost:8080/"
        },
        "outputId": "07acc4e4-6664-43c0-aefe-bb518f839f61"
      },
      "source": [
        "numero1 = float(input(\"Digite o primeiro valor: \"))\n",
        "numero2 = float(input(\"Digite o primeiro valor: \"))\n",
        "\n",
        "print(numero1 >= numero2)\n",
        "print(numero1 < numero2)\n",
        "print(numero1 != numero2)\n",
        "print(numero1 == numero2)\n"
      ],
      "execution_count": 19,
      "outputs": [
        {
          "output_type": "stream",
          "text": [
            "Digite o primeiro valor: 10\n",
            "Digite o primeiro valor: 20\n",
            "False\n",
            "True\n",
            "True\n",
            "False\n"
          ],
          "name": "stdout"
        }
      ]
    },
    {
      "cell_type": "markdown",
      "metadata": {
        "id": "Gn8rHPn3UCnc"
      },
      "source": [
        "## Exercício 06\n",
        "Elabore um programa que recebe o seu nome, endereço e hobby e mostra cada uma das informações da seguinte forma:\n",
        "- Nome -> Letra maiúscula\n",
        "- Endereço -> Letra minúscula\n",
        "- Hobby -> Primeira letra maiúscula\n",
        "\n",
        "**Exemplo Entrada:**\n",
        "```\n",
        "Nome: bruno fabri\n",
        "Endereço: Rua ABC\n",
        "Hobby: jogar cs\n",
        "```\n",
        "\n",
        "**Exemplo Saída:**\n",
        "```\n",
        "Nome: BRUNO FABRI\n",
        "Endereço: rua abc\n",
        "Hobby: Jogar cs\n",
        "```"
      ]
    },
    {
      "cell_type": "code",
      "metadata": {
        "id": "ZIj-PGVZVVP6"
      },
      "source": [
        "nome = input(\"Digite seu nome:\")\n",
        "endereco = input(\"Digite seu endereço:\")\n",
        "hobby = input(\"Digite seu hobby\")\n",
        "\n",
        "print(nome.upper())\n",
        "print(nome.lower))\n",
        "print(nome.title())\n",
        "print(nome.capitalize())\n",
        "\n",
        "#Forma 2\n",
        "nome = input('Digite o seu nome:').upper()\n",
        "endereco = str('Digite seu endereço:').lower()\n",
        "hobby = input('Digite seu hobby:').capitalize()\n",
        "\n",
        "print('''\n",
        "Nome:{}\n",
        "Endereço:{}\n",
        "Hobby:{}\n",
        "'''.format(nome,endereco,hobby))\n",
        "\n",
        "#Forma 3\n",
        "nome = input"
      ],
      "execution_count": null,
      "outputs": []
    },
    {
      "cell_type": "markdown",
      "metadata": {
        "id": "wlvmEAPQNrcL"
      },
      "source": [
        "# Mini Projetos"
      ]
    },
    {
      "cell_type": "markdown",
      "metadata": {
        "id": "W8zwueNBKh4B"
      },
      "source": [
        "## Mini Projeto 01 - Conversor de Moeda\n",
        "Vamos construir um programa que irá converter moedas do real para o dólar e do dólar para o real. Vamos considerar que `$ 1,00 = R$ 5,75`\n",
        "\n",
        "### Parte 1\n",
        "Faça o conversor de moeda receber o valor em real e mostrar o valor convertido para dólar no formato `$ XXXX.XX`\n",
        "\n",
        "**Exemplo:**\n",
        "\n",
        "```\n",
        "Valor em R$ = 1000\n",
        "Valor em $ = $ 173.91\n",
        "```\n",
        "\n",
        "### Parte 2\n",
        "Altere o conversor de moedas para receber o valor em dólar, converter para real e mostrar o resultado no formato `R$ XXXX.XX`\n",
        "\n",
        "**Exemplo:**\n",
        "```\n",
        "Valor em $ = 1000\n",
        "Valor em R$ = R$ 5750.00\n",
        "```"
      ]
    },
    {
      "cell_type": "code",
      "metadata": {
        "colab": {
          "base_uri": "https://localhost:8080/"
        },
        "id": "2Q6bBiYcTzjc",
        "outputId": "a743b502-547a-4d57-bd28-734a4bdc2c6a"
      },
      "source": [
        "Dolar = int(input(\"Digite o valor a ser convertido em dólar: \"))\n",
        "Real = Dolar * 5.75\n",
        "\n",
        "print(\"O valor será de: \", Real, \"dólares\")"
      ],
      "execution_count": 23,
      "outputs": [
        {
          "output_type": "stream",
          "text": [
            "Digite o valor a ser convertido em dólar: 1000\n",
            "O valor será de:  5750.0 dólares\n"
          ],
          "name": "stdout"
        }
      ]
    },
    {
      "cell_type": "code",
      "metadata": {
        "id": "mRQ9fpIgMp5Z",
        "colab": {
          "base_uri": "https://localhost:8080/"
        },
        "outputId": "bb658977-f1d4-4071-9bb2-b47ce38855d1"
      },
      "source": [
        "Real = int(input(\"Digite o valor a ser convertido em dólar: \"))\n",
        "Dolar = Real * 0.17391\n",
        "\n",
        "print(\"O valor será de: \", Dolar, \"dólares\")\n"
      ],
      "execution_count": 21,
      "outputs": [
        {
          "output_type": "stream",
          "text": [
            "Digite o valor a ser convertido em dólar: 1000\n",
            "O valor será de:  173.91 dólares\n"
          ],
          "name": "stdout"
        }
      ]
    },
    {
      "cell_type": "markdown",
      "metadata": {
        "id": "0NmAiF2DV_ju"
      },
      "source": [
        "## Mini Projeto 02 - Calculadora de aumento de aluguel\n",
        "Vamos construir um programa que irá calcular o aumento anual do seu aluguel em duas partes:\n",
        "\n",
        "### Parte 1\n",
        "A sua calculadora vai receber o `valor do aluguel` e calcular o aumento baseado no `IGPM de 31%`. A calculadora deve apresentar o aluguel reajustado no formato `R$ XXXX.XX`\n",
        "\n",
        "**Exemplo:**\n",
        "```\n",
        "Valor do aluguel = 1000\n",
        "Valor do aluguel reajustado = R$ 1310,00\n",
        "```\n",
        "\n",
        "### Parte 2\n",
        "Agora, altere sua calculadora para receber além do `valor do aluguel`, o percentual do reajuste no formato `XX%`.  \n",
        "\n",
        "**Dica:** Descubra uma forma de transformar o percentual recebido em um número para efetuar o cálculo.\n",
        "\n",
        "**Exemplo:**\n",
        "```\n",
        "Valor do aluguel = 1000\n",
        "Percentual do reajuste = 31%\n",
        "Valor do aluguel reajustado = R% 1310,00\n",
        "```"
      ]
    },
    {
      "cell_type": "code",
      "metadata": {
        "colab": {
          "base_uri": "https://localhost:8080/"
        },
        "id": "klFrEk8rTw3m",
        "outputId": "7cd71810-1973-4f6b-cd46-f83818b6936b"
      },
      "source": [
        "ValorAluguel = int(input(\"Digite o valor do Aluguel: \"))\n",
        "print(ValorAluguel*1.31)"
      ],
      "execution_count": 25,
      "outputs": [
        {
          "output_type": "stream",
          "text": [
            "Digite o valor do Aluguel: 1000\n",
            "1310.0\n"
          ],
          "name": "stdout"
        }
      ]
    },
    {
      "cell_type": "code",
      "metadata": {
        "id": "0eHzSCyaGkYJ",
        "colab": {
          "base_uri": "https://localhost:8080/"
        },
        "outputId": "f2745256-729c-44ab-fae9-ba73901a5b66"
      },
      "source": [
        "Valor_Padrao = int(input(\"Por favor, digite o valor de seu aluguel: \"))\n",
        "Reajuste = int(input(\"Agora, digite o valor do reajuste que será aplicado: \"))\n",
        "\n",
        "Reajuste_Corrigido = 1 + (Reajuste / 100)\n",
        "Valor_Corrigido = Valor_Padrao * Reajuste_Corrigido\n",
        "\n",
        "print(\"O Valor a ser pago será de R$\",Valor_Corrigido)"
      ],
      "execution_count": 29,
      "outputs": [
        {
          "output_type": "stream",
          "text": [
            "Digite o valor do Aluguel: 1000\n",
            "Digite o valor do IGP-M: 31\n",
            "31000.0\n",
            "31000.0\n"
          ],
          "name": "stdout"
        }
      ]
    },
    {
      "cell_type": "markdown",
      "metadata": {
        "id": "xN88sUuMOG46"
      },
      "source": [
        "## Mini Projeto 03 - Calculadora de dano\n",
        "Vamos implementar a calculadora de dano de RPG!!\n",
        "\n",
        "### Parte 1\n",
        "O programa vai receber a `vida e um monstro (entre 10 e 50)` e o `valor do ataque do jogador por turno (entre 5 e 10)`\n",
        "\n",
        "Baseado nos valores, exiba a quantidade de turnos que o jogador irá demorar para conseguir derrotar o monstro.\n",
        "\n",
        "**Exemplo:**\n",
        "```\n",
        "Vida de um monstro (entre 10 e 50): 26\n",
        "Valor do ataque do jogador por turno (entre 5 e 10): 5\n",
        "Resultado: O jogador irá precisar de 6 turnos para derrotar o monstro.\n",
        "```\n",
        "\n",
        "### Parte 2\n",
        "Altere o programa para ao invés de receber a vida do monstro, gerar aleatoriamente um valor entre 10 e 50."
      ]
    },
    {
      "cell_type": "code",
      "metadata": {
        "id": "Mrpz9UomQH2P",
        "colab": {
          "base_uri": "https://localhost:8080/"
        },
        "outputId": "39f9c313-bc81-4c3d-cddb-0b57e2ad73d7"
      },
      "source": [
        "Vida_Monstro = int(input(\"Digite a vida do monstro (entre 10 e 50): \"))\n",
        "atk = int(input(\"Digite seu dano de ataque (entre 5 e 10):\"))\n",
        "atk_totais = Vida_Monstro / atk\n",
        "\n",
        "print(\"O jogador irá precisar de\", round(atk_totais),\" ataques para derrotar o monstro\")\n",
        "\n"
      ],
      "execution_count": 35,
      "outputs": [
        {
          "output_type": "stream",
          "text": [
            "Digite a vida do monstro (entre 10 e 50): 26\n",
            "Digite seu dano de ataque (entre 5 e 10):7\n",
            "O jogador irá precisar de 4  ataques para derrotar o monstro\n"
          ],
          "name": "stdout"
        }
      ]
    }
  ]
}