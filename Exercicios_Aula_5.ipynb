{
  "nbformat": 4,
  "nbformat_minor": 0,
  "metadata": {
    "colab": {
      "name": "Exercicios Aula 5.ipynb",
      "provenance": [],
      "collapsed_sections": [],
      "authorship_tag": "ABX9TyM3VbrcEfjKGzBftHwccsJA",
      "include_colab_link": true
    },
    "kernelspec": {
      "name": "python3",
      "display_name": "Python 3"
    },
    "language_info": {
      "name": "python"
    }
  },
  "cells": [
    {
      "cell_type": "markdown",
      "metadata": {
        "id": "view-in-github",
        "colab_type": "text"
      },
      "source": [
        "<a href=\"https://colab.research.google.com/github/emersoncs77/BlueTurma2B-mod1/blob/main/Exercicios_Aula_5.ipynb\" target=\"_parent\"><img src=\"https://colab.research.google.com/assets/colab-badge.svg\" alt=\"Open In Colab\"/></a>"
      ]
    },
    {
      "cell_type": "code",
      "metadata": {
        "id": "FNchaT4nqCUm"
      },
      "source": [
        "numero1 = int(input(\"Digite o primeiro valor: \"))\n",
        "numero2 = int(input(\"Digite o primeiro valor: \"))\n",
        "numero3 = int(input(\"Digite o primeiro valor: \"))\n",
        "\n",
        "if numero1 > numero2\n",
        "  elif \n",
        "    numero1 < numero3\n",
        "    "
      ],
      "execution_count": null,
      "outputs": []
    },
    {
      "cell_type": "code",
      "metadata": {
        "colab": {
          "base_uri": "https://localhost:8080/"
        },
        "id": "zDvVZKeWsziB",
        "outputId": "94c3eba4-b25e-4b3a-b491-04a64120c63b"
      },
      "source": [
        "num1 = int(input(\"Digite o primeiro valor: \"))\n",
        "num2 = int(input(\"Digite o primeiro valor: \"))\n",
        "num3 = int(input(\"Digite o primeiro valor: \"))\n",
        "\n",
        "if num1 > num2 and num1 > num3:\n",
        "  print(\"O número maior é: \", num1)\n",
        "if num2 > num1 and num2 > num3:\n",
        "  print(\"O número maior é\", num2)\n",
        "if num3 > num1 and num3 > num2:\n",
        "  print(\"O número maior é:\", num3)\n",
        "\n",
        "\n",
        "if num1 < num2 and num1 < num3:\n",
        "  print(\"O número maior é: \", num1)\n",
        "if num2 < num1 and num2 < num3:\n",
        "  print(\"O número maior é\", num2)\n",
        "if num3 < num1 and num3 < num2:\n",
        "  print(\"O número maior é:\", num3)\n"
      ],
      "execution_count": 2,
      "outputs": [
        {
          "output_type": "stream",
          "text": [
            "Digite o primeiro valor: 5\n",
            "Digite o primeiro valor: 10\n",
            "Digite o primeiro valor: 15\n",
            "O número maior é: 15\n",
            "O número maior é:  5\n"
          ],
          "name": "stdout"
        }
      ]
    },
    {
      "cell_type": "code",
      "metadata": {
        "colab": {
          "base_uri": "https://localhost:8080/"
        },
        "id": "b6pRdGp8uGmr",
        "outputId": "31932483-ed05-4311-dd5b-75b73b699052"
      },
      "source": [
        "num1 = int(input(\"Digite o primeiro valor: \"))\n",
        "num2 = int(input(\"Digite o primeiro valor: \"))\n",
        "num3 = int(input(\"Digite o primeiro valor: \"))\n",
        "\n",
        "if num1 > num2 and num1 > num3:\n",
        "  print(\"O número maior é: \", num1)\n",
        "elif num2 > num1 and num2 > num3:\n",
        "  print(\"O número maior é\", num2)\n",
        "else:\n",
        "  print(\"O número maior é:\", num3)\n",
        "\n",
        "\n",
        "if num1 < num2 and num1 < num3:\n",
        "  print(\"O número maior é: \", num1)\n",
        "elif num2 < num1 and num2 < num3:\n",
        "  print(\"O número maior é\", num2)\n",
        "else:\n",
        "  print(\"O número maior é:\", num3)"
      ],
      "execution_count": 6,
      "outputs": [
        {
          "output_type": "stream",
          "text": [
            "Digite o primeiro valor: 5\n",
            "Digite o primeiro valor: 10\n",
            "Digite o primeiro valor: 15\n",
            "O número maior é: 15\n",
            "O número maior é:  5\n"
          ],
          "name": "stdout"
        }
      ]
    }
  ]
}