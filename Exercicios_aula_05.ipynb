{
  "nbformat": 4,
  "nbformat_minor": 0,
  "metadata": {
    "colab": {
      "name": "Exercicios_aula 05.ipynb",
      "provenance": [],
      "collapsed_sections": [],
      "authorship_tag": "ABX9TyPMcCXebBZ3NFo38x8Bpp0x",
      "include_colab_link": true
    },
    "kernelspec": {
      "name": "python3",
      "display_name": "Python 3"
    },
    "language_info": {
      "name": "python"
    }
  },
  "cells": [
    {
      "cell_type": "markdown",
      "metadata": {
        "id": "view-in-github",
        "colab_type": "text"
      },
      "source": [
        "<a href=\"https://colab.research.google.com/github/emersoncs77/BlueTurma2B-mod1/blob/main/Exercicios_aula_05.ipynb\" target=\"_parent\"><img src=\"https://colab.research.google.com/assets/colab-badge.svg\" alt=\"Open In Colab\"/></a>"
      ]
    },
    {
      "cell_type": "markdown",
      "metadata": {
        "id": "EwGmvvZYip3y"
      },
      "source": [
        "1. Faça um programa que leia três números inteiros, em seguida mostre o maior e o menor deles."
      ]
    },
    {
      "cell_type": "code",
      "metadata": {
        "id": "ciLmd_e2oDUL",
        "colab": {
          "base_uri": "https://localhost:8080/"
        },
        "outputId": "0bc9ef7d-9da0-4707-ceb2-e2e431bb1403"
      },
      "source": [
        "num1 = int(input(\"Digite o primeiro valor: \"))\n",
        "num2 = int(input(\"Digite o segundo valor: \"))\n",
        "num3 = int(input(\"Digite o terceiro valor: \"))\n",
        "\n",
        "if num1 > num2 and num1 > num3:\n",
        "  print(\"O número maior é: \", num1)\n",
        "if num2 > num1 and num2 > num3:\n",
        "  print(\"O número maior é\", num2)\n",
        "if num3 > num1 and num3 > num2:\n",
        "  print(\"O número maior é:\", num3)\n",
        "\n",
        "\n",
        "if num1 < num2 and num1 < num3:\n",
        "  print(\"O número maior é: \", num1)\n",
        "if num2 < num1 and num2 < num3:\n",
        "  print(\"O número maior é\", num2)\n",
        "if num3 < num1 and num3 < num2:\n",
        "  print(\"O número maior é:\", num3)"
      ],
      "execution_count": null,
      "outputs": [
        {
          "output_type": "stream",
          "text": [
            "Digite o primeiro valor: 15\n",
            "Digite o segundo valor: 10\n",
            "Digite o terceiro valor: 20\n",
            "O número maior é: 20\n",
            "O número maior é 10\n"
          ],
          "name": "stdout"
        }
      ]
    },
    {
      "cell_type": "markdown",
      "metadata": {
        "id": "osfvF7PDjI__"
      },
      "source": [
        "2. Faça um programa que peça dois números e imprima o maior deles."
      ]
    },
    {
      "cell_type": "code",
      "metadata": {
        "colab": {
          "base_uri": "https://localhost:8080/"
        },
        "id": "BBClHb07otpi",
        "outputId": "eaa1205f-d534-4003-ff40-77e73fce7058"
      },
      "source": [
        "num1 = int(input(\"Digite o primeiro valor: \"))\n",
        "num2 = int(input(\"Digite o segundo valor: \"))\n",
        "\n",
        "if num1 > num2:\n",
        "  print(\"O número maior é: \", num1)\n",
        "else:\n",
        "  print(\"O número maior é: \", num2)"
      ],
      "execution_count": null,
      "outputs": [
        {
          "output_type": "stream",
          "text": [
            "Digite o primeiro valor: 10\n",
            "Digite o segundo valor: 20\n",
            "O número maior é:  20\n"
          ],
          "name": "stdout"
        }
      ]
    },
    {
      "cell_type": "markdown",
      "metadata": {
        "id": "tcJBIFd2jZyM"
      },
      "source": [
        "3. Faça um script que peça um valor e mostre na tela se o valor é positivo ou negativo."
      ]
    },
    {
      "cell_type": "code",
      "metadata": {
        "colab": {
          "base_uri": "https://localhost:8080/"
        },
        "id": "Jd9c6A7YpKR3",
        "outputId": "e3a44197-5118-49e5-f52a-666e0e352ecc"
      },
      "source": [
        "num = int(input(\"Digite o número: \"))\n",
        "\n",
        "if num >= 0:\n",
        "  print(\"O número é positivo! \")\n",
        "else:\n",
        "  print(\"O número é negativo! \")"
      ],
      "execution_count": null,
      "outputs": [
        {
          "output_type": "stream",
          "text": [
            "Digite o número: 0\n",
            "O número é positivo! \n"
          ],
          "name": "stdout"
        }
      ]
    },
    {
      "cell_type": "markdown",
      "metadata": {
        "id": "6oCIvMEQjqG6"
      },
      "source": [
        "4. Crie um programa que verifique se uma letra digitada é \"F\" ou \"M\". Conforme a letra escrever: F - Feminino, M - Masculino, Sexo Inválido."
      ]
    },
    {
      "cell_type": "code",
      "metadata": {
        "colab": {
          "base_uri": "https://localhost:8080/"
        },
        "id": "wIaAC3A0poxX",
        "outputId": "9d8116ad-2494-482b-b8f9-c87189e8b8e9"
      },
      "source": [
        "sexo = input(\"Digite o sexo: \")\n",
        "\n",
        "if sexo.upper() == \"F\":\n",
        "  print(\"Feminino\")\n",
        "elif sexo.upper() == \"M\":\n",
        "  print(\"Masculino\")\n",
        "else:\n",
        "  print(\"Sexo Inválido\")"
      ],
      "execution_count": null,
      "outputs": [
        {
          "output_type": "stream",
          "text": [
            "Digite o sexo: m\n",
            "Masculino\n"
          ],
          "name": "stdout"
        }
      ]
    },
    {
      "cell_type": "markdown",
      "metadata": {
        "id": "yTp7i3jtko1z"
      },
      "source": [
        "5. Crie um programa em Python que peça a nota do aluno, que deve ser um float entre 0.00 e 10.0"
      ]
    },
    {
      "cell_type": "code",
      "metadata": {
        "id": "pSutMyKgrrEc",
        "colab": {
          "base_uri": "https://localhost:8080/"
        },
        "outputId": "c846025a-999d-4872-fc11-0b87e77b74c4"
      },
      "source": [
        "nota = float(input(\"Digite a Nota: \"))\n",
        "\n",
        "if nota >= 9 and nota <= 10:\n",
        "  print(\"A\")\n",
        "elif nota >= 8 and nota < 9:\n",
        "  print(\"B\")\n",
        "elif nota >= 7 and nota < 8:\n",
        "  print(\"C\")\n",
        "elif nota >= 6 and nota < 7:\n",
        "  print(\"D\")\n",
        "elif nota < 6 and nota >= 0:\n",
        "  print(\"E\")\n",
        "else:\n",
        "  print(\"Digite um valor entre 0 e 10\")\n",
        "\n",
        "\n",
        "\n"
      ],
      "execution_count": null,
      "outputs": [
        {
          "output_type": "stream",
          "text": [
            "Digite a Nota: 54\n",
            "Digite um valor entre 0 e 10\n"
          ],
          "name": "stdout"
        }
      ]
    },
    {
      "cell_type": "markdown",
      "metadata": {
        "id": "6oK5XoBEky0F"
      },
      "source": [
        "6. Faça um Programa que verifique se uma letra digitada é vogal ou consoante."
      ]
    },
    {
      "cell_type": "code",
      "metadata": {
        "id": "kUqOlaiFiZJy"
      },
      "source": [
        "letra = input('Digite uma letra: ')\n",
        "if letra.upper() == 'A':\n",
        "print('Essa letra é uma Vogal')\n",
        "elif letra.upper() == 'E':\n",
        "print('Essa letra é uma Vogal')\n",
        "elif letra.upper() == 'I':\n",
        "print('Essa letra é uma Vogal')\n",
        "elif letra.upper() == 'O':\n",
        "print('Essa letra é uma Vogal')\n",
        "elif letra.upper() == 'U':\n",
        "print('Essa letra é uma Vogal')\n",
        "else:\n",
        "  print('Essa letra é uma Consoante.')"
      ],
      "execution_count": null,
      "outputs": []
    },
    {
      "cell_type": "markdown",
      "metadata": {
        "id": "HTXlSxj_mL9A"
      },
      "source": [
        ""
      ]
    },
    {
      "cell_type": "code",
      "metadata": {
        "id": "fbmSOUFQmOEL"
      },
      "source": [
        ""
      ],
      "execution_count": null,
      "outputs": []
    }
  ]
}